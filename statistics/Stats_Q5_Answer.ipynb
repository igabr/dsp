{
 "cells": [
  {
   "cell_type": "markdown",
   "metadata": {
    "deletable": true,
    "editable": true
   },
   "source": [
    "## Question 5:\n",
    "\n",
    "Elvis Presley had a twin brother who died at birth. What is the probability that Elvis was an identical twin? Assume we observe the following probabilities in the population: fraternal twin is 1/125 and identical twin is 1/300."
   ]
  },
  {
   "cell_type": "markdown",
   "metadata": {
    "deletable": true,
    "editable": true
   },
   "source": [
    "Let's make the additional assumption that boys and girls are born in equal amounts on average"
   ]
  },
  {
   "cell_type": "markdown",
   "metadata": {
    "deletable": true,
    "editable": true
   },
   "source": [
    "Let's define the probabilities for what we know so far:\n",
    "\n",
    "- $P(B) =$ Probability of twin brothers $= \\frac{1}{4}$. This is beacause $P(boy) = \\frac{1}{2}$\n",
    "    - $\\frac{1}{2} \\cdot \\frac{1}{2} = \\frac{1}{4}$\n",
    "    \n",
    "    \n",
    "\n",
    "- $P(B|F) =$ Probability of brothers being fraternal twins $= \\frac{1}{4} = P(B)$. This makes intuitive sense!\n",
    "\n",
    "\n",
    "- $P(B|I) = $ Probability of brothers being identical twins $= \\frac{1}{2}$. Again, they can either both be boys or both be girls. Thus it's a $50\\%$ chance\n",
    "\n",
    "\n",
    "- $P(I) =$ Probability of Identical twins in the population $= \\frac{1}{300}$\n",
    "\n",
    "\n",
    "- $P(F) =$ Probability of Fraternal twins in the population $= \\frac{1}{125}$\n",
    "\n",
    "\n",
    "\n",
    "Answer: $$P(I|B) = \\frac{P(B|I) \\cdot P(I)}{P(B)} = \\frac{P(B|I) \\cdot P(I)}{P(B|I) \\cdot P(I) + P(B|E) \\cdot P(E)} = \\frac{1/2 \\cdot 1/300}{1/2 \\cdot 1/300 + 1/4 \\cdot 1/125} = \\frac{5}{11}$$\n",
    "\n",
    "This is an example of Bayes Rule.\n",
    "\n",
    "The general form is: $$P(A|B) = \\frac{P(B|A) \\cdot P(A)}{P(B)}$$"
   ]
  },
  {
   "cell_type": "code",
   "execution_count": null,
   "metadata": {
    "collapsed": true,
    "deletable": true,
    "editable": true
   },
   "outputs": [],
   "source": []
  }
 ],
 "metadata": {
  "kernelspec": {
   "display_name": "Python [conda root]",
   "language": "python",
   "name": "conda-root-py"
  },
  "language_info": {
   "codemirror_mode": {
    "name": "ipython",
    "version": 3
   },
   "file_extension": ".py",
   "mimetype": "text/x-python",
   "name": "python",
   "nbconvert_exporter": "python",
   "pygments_lexer": "ipython3",
   "version": "3.5.2"
  }
 },
 "nbformat": 4,
 "nbformat_minor": 2
}
