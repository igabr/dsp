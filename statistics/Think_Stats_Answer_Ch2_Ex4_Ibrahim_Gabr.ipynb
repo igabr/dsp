{
 "cells": [
  {
   "cell_type": "code",
   "execution_count": 1,
   "metadata": {
    "collapsed": true
   },
   "outputs": [],
   "source": [
    "import nsfg\n",
    "import math"
   ]
  },
  {
   "cell_type": "code",
   "execution_count": 2,
   "metadata": {
    "collapsed": true
   },
   "outputs": [],
   "source": [
    "data = nsfg.ReadFemPreg()#load dataset\n",
    "live = data[data.outcome == 1] #live births only"
   ]
  },
  {
   "cell_type": "code",
   "execution_count": 3,
   "metadata": {
    "collapsed": false
   },
   "outputs": [
    {
     "data": {
      "text/plain": [
       "67.29934525123225"
      ]
     },
     "execution_count": 3,
     "metadata": {},
     "output_type": "execute_result"
    }
   ],
   "source": [
    "(live.shape[0]/data.shape[0])*100 #represents around 67% of all data."
   ]
  },
  {
   "cell_type": "code",
   "execution_count": 4,
   "metadata": {
    "collapsed": true
   },
   "outputs": [],
   "source": [
    "first = live[live.birthord == 1]\n",
    "others = live[live.birthord != 1]"
   ]
  },
  {
   "cell_type": "code",
   "execution_count": 5,
   "metadata": {
    "collapsed": false
   },
   "outputs": [
    {
     "data": {
      "text/plain": [
       "pandas.core.frame.DataFrame"
      ]
     },
     "execution_count": 5,
     "metadata": {},
     "output_type": "execute_result"
    }
   ],
   "source": [
    "type(first)"
   ]
  },
  {
   "cell_type": "code",
   "execution_count": 6,
   "metadata": {
    "collapsed": false
   },
   "outputs": [
    {
     "data": {
      "text/plain": [
       "pandas.core.frame.DataFrame"
      ]
     },
     "execution_count": 6,
     "metadata": {},
     "output_type": "execute_result"
    }
   ],
   "source": [
    "type(others)"
   ]
  },
  {
   "cell_type": "code",
   "execution_count": 11,
   "metadata": {
    "collapsed": true
   },
   "outputs": [],
   "source": [
    "def CohenEffectSize(group1, group2):\n",
    "    '''\n",
    "    If I was passing on the result of this function, I would return d.\n",
    "    \n",
    "    For interpretability, I included print statements.\n",
    "    \n",
    "    Inputs:\n",
    "        - group1, group2: Pandas Dataframes\n",
    "    '''\n",
    "    diff = group1.mean() - group2.mean()\n",
    "    \n",
    "    print(\"Group 1 Mean is {}\".format(group1.mean()))\n",
    "    print()\n",
    "    print(\"Group 2 Mean is {}\".format(group2.mean()))\n",
    "    print()\n",
    "    print(\"The difference is {}\".format(diff))\n",
    "    print()\n",
    "    \n",
    "    var1 = group1.var()\n",
    "    var2 = group2.var()\n",
    "    \n",
    "    n1 = len(group1)\n",
    "    n2 = len(group2)\n",
    "    \n",
    "    pooled_var = (n1 * var1 + n2 * var2)/(n1 + n2)\n",
    "    \n",
    "    d = diff / math.sqrt(pooled_var)\n",
    "    \n",
    "    print(\"The effect-size is: %f\" % d)"
   ]
  },
  {
   "cell_type": "code",
   "execution_count": 12,
   "metadata": {
    "collapsed": false
   },
   "outputs": [
    {
     "name": "stdout",
     "output_type": "stream",
     "text": [
      "Group 1 Mean is 7.201094430437772\n",
      "\n",
      "Group 2 Mean is 7.325855614973262\n",
      "\n",
      "The difference is -0.12476118453549034\n",
      "\n",
      "The effect-size is: -0.088673\n"
     ]
    }
   ],
   "source": [
    "CohenEffectSize(first.totalwgt_lb, others.totalwgt_lb)"
   ]
  },
  {
   "cell_type": "markdown",
   "metadata": {},
   "source": [
    "From the above, we can see that first babies are lighter than those babies that are not first.\n",
    "\n",
    "However, the difference here is trivial as the two groups means diffe by a standard deviation of $-0.088673$.\n",
    "\n",
    "Cohen suggested that:\n",
    "1. $d=0.2$ could be considered a small effect\n",
    "\n",
    "2. $d=0.5$ could be considered a medium effect\n",
    "\n",
    "3. $d=0.8$ could be considered a large effect.\n",
    "\n",
    "Since our difference is $<0.2$, it can be considered trivial, even if we found it to be statistically significant"
   ]
  }
 ],
 "metadata": {
  "kernelspec": {
   "display_name": "Python [conda root]",
   "language": "python",
   "name": "conda-root-py"
  },
  "language_info": {
   "codemirror_mode": {
    "name": "ipython",
    "version": 3
   },
   "file_extension": ".py",
   "mimetype": "text/x-python",
   "name": "python",
   "nbconvert_exporter": "python",
   "pygments_lexer": "ipython3",
   "version": "3.5.2"
  }
 },
 "nbformat": 4,
 "nbformat_minor": 2
}
