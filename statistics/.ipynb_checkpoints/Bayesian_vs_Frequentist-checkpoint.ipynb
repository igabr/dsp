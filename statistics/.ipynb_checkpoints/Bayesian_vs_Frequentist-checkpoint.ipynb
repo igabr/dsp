{
 "cells": [
  {
   "cell_type": "markdown",
   "metadata": {
    "deletable": true,
    "editable": true
   },
   "source": [
    "## Question:\n",
    "How do Frequentist and Bayesian statistics compare?"
   ]
  },
  {
   "cell_type": "markdown",
   "metadata": {
    "deletable": true,
    "editable": true
   },
   "source": [
    "Recall Bayes' Theorem:\n",
    "\n",
    "$$P(H|D) = \\frac{P(D|H) \\cdot P(H)} {P(D)}$$"
   ]
  },
  {
   "cell_type": "markdown",
   "metadata": {
    "deletable": true,
    "editable": true
   },
   "source": [
    "$H = $ Hypothesis\n",
    "\n",
    "$D = $ Data\n",
    "\n",
    "- The $P(H)$ is the probability that $H$ is true before the data is considered\n",
    "\n",
    "\n",
    "- The posterior $P(H|D)$ is the probability that $H$ is true after the data is considered\n",
    "\n",
    "\n",
    "- The likelihood $P(D|H)$ is the evidence about $H$ provided by the data $D$\n",
    "\n",
    "\n",
    "- $P(D)$ is the total probability of the data taking into account all the possible hypotheses.\n",
    "\n",
    "It is important to note that in most experiments, the prior probabilities on hypotheses are not known. In these instances, we employ statistical inference. That is, we either construct a prior (Bayesian) or only use the likelihood (frequentist).\n",
    "\n",
    "##### BAYESIAN SCHOOL\n",
    "\n",
    "- Models uncertainty by a probability distribution over hypotheses. As such, the ability to employ statistical inference depends on the degree of confidence placed in a chosen prior in addition to the validitiy of findings of alternative prior disributions that may be relevant.\n",
    "\n",
    "\n",
    "- Computationally expensieve due to integration over many parameters\n",
    "\n",
    "##### FREQUENTIST SCHOOL\n",
    "\n",
    "- Only employs conditional distributions of data given specific hypotheses. Presumes that some hypothesis istrue, and thus the observed data is sampled from that distribution. No dependency on subjective prior.\n",
    "\n",
    "\n",
    "- No Prior or Posterior probability.\n",
    "\n",
    "\n",
    "- Less computationally expensive.\n",
    "\n",
    "##### Critque of Bayesian School\n",
    "\n",
    "- A subjective prior is subjective. There is no method for choosing a particular prior, thus different statisticians will obtain different priors and posteriors. This leads to different conclusions.\n",
    "\n",
    "\n",
    "- Philisophical Issue pertaining to the assignment of probabilities to hypotheses. After all, a hypotheses is either True or False. As in, a coin is either fair or unfair.\n",
    "\n",
    "##### Defense of Bayesian School\n",
    "\n",
    "- Prior's may be subjective, however, when framed with the associated assumptions, it allows for a debate over the validity of the prior.\n",
    "\n",
    "\n",
    "- Data can constantly be used as it is collected. \n",
    "\n",
    "\n",
    "- Paradoxically, even though a hypothese is either True or False. We are constantly in search for information (i.e. probability) regarding hypotheses everyday. For example, when a doctor tell's you that you may be ill with a certain diseaase. You wish to know the probability of that actually being true!\n",
    "\n",
    "##### Critique of Frequentist School\n",
    "\n",
    "- Cannot employ deductive logic like the Bayesian framework.\n",
    "\n",
    "\n",
    "- Experiments must be cleary defined and specified ahead of time. Data cannot be used as it comes in.\n",
    "\n",
    "##### Defense of Frequentist School\n",
    "\n",
    "- The rigidity of experimental design helps control and account for experimenter bias."
   ]
  }
 ],
 "metadata": {
  "kernelspec": {
   "display_name": "Python [conda root]",
   "language": "python",
   "name": "conda-root-py"
  },
  "language_info": {
   "codemirror_mode": {
    "name": "ipython",
    "version": 3
   },
   "file_extension": ".py",
   "mimetype": "text/x-python",
   "name": "python",
   "nbconvert_exporter": "python",
   "pygments_lexer": "ipython3",
   "version": "3.5.2"
  }
 },
 "nbformat": 4,
 "nbformat_minor": 2
}
